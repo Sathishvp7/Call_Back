{
 "cells": [
  {
   "cell_type": "markdown",
   "metadata": {
    "colab_type": "text",
    "id": "AQDRNrY2NCXf"
   },
   "source": [
    "<pre>\n",
    "1. Download the data from <a href='https://drive.google.com/file/d/15dCNcmKskcFVjs7R0ElQkR61Ex53uJpM/view?usp=sharing'>here</a>\n",
    "\n",
    "2. Code the model to classify data like below image\n",
    "\n",
    "<img src='https://i.imgur.com/33ptOFy.png'>\n",
    "\n",
    "3. Write your own callback function, that has to print the micro F1 score and AUC score after each epoch.\n",
    "\n",
    "4. Save your model at every epoch if your validation accuracy is improved from previous epoch. \n",
    "\n",
    "5. you have to decay learning based on below conditions \n",
    "        Cond1. If your validation accuracy at that epoch is less than previous epoch accuracy, you have to decrese the\n",
    "               learning rate by 10%. \n",
    "        Cond2. For every 3rd epoch, decay your learning rate by 5%.\n",
    "        \n",
    "6. If you are getting any NaN values(either weigths or loss) while training, you have to terminate your training. \n",
    "\n",
    "7. You have to stop the training if your validation accuracy is not increased in last 2 epochs.\n",
    "\n",
    "8. Use tensorboard for every model and analyse your gradients. (you need to upload the screenshots for each model for evaluation)\n",
    "\n",
    "9. use cross entropy as loss function\n",
    "\n",
    "10. Try the architecture params as given below. \n",
    "</pre>"
   ]
  },
  {
   "cell_type": "markdown",
   "metadata": {
    "colab_type": "text",
    "id": "w41Y3TFENCXk"
   },
   "source": [
    "<pre>\n",
    "<b>Model-1</b>\n",
    "<pre>\n",
    "1. Use tanh as an activation for every layer except output layer.\n",
    "2. use SGD with momentum as optimizer.\n",
    "3. use RandomUniform(0,1) as initilizer.\n",
    "3. Analyze your output and training process. \n",
    "</pre>\n",
    "</pre>\n",
    "<pre>\n",
    "<b>Model-2</b>\n",
    "<pre>\n",
    "1. Use relu as an activation for every layer except output layer.\n",
    "2. use SGD with momentum as optimizer.\n",
    "3. use RandomUniform(0,1) as initilizer.\n",
    "3. Analyze your output and training process. \n",
    "</pre>\n",
    "</pre>\n",
    "<pre>\n",
    "<b>Model-3</b>\n",
    "<pre>\n",
    "1. Use relu as an activation for every layer except output layer.\n",
    "2. use SGD with momentum as optimizer.\n",
    "3. use he_uniform() as initilizer.\n",
    "3. Analyze your output and training process. \n",
    "</pre>\n",
    "</pre>\n",
    "<pre>\n",
    "<b>Model-4</b>\n",
    "<pre>\n",
    "1. Try with any values to get better accuracy/f1 score.  \n",
    "</pre>\n",
    "</pre>"
   ]
  },
  {
   "cell_type": "code",
   "execution_count": 1,
   "metadata": {},
   "outputs": [
    {
     "name": "stdout",
     "output_type": "stream",
     "text": [
      "(14000, 2)\n",
      "(6000, 2)\n",
      "(14000, 2)\n",
      "(6000, 2)\n"
     ]
    }
   ],
   "source": [
    "# -*- coding: utf-8 -*-\n",
    "\"\"\"\n",
    "Created on Sun Aug 23 12:22:34 2020\n",
    "\n",
    "@author: User\n",
    "\"\"\"\n",
    "\n",
    "\n",
    "from tensorflow.keras.layers import Dense,Input,Activation,Dropout,BatchNormalization\n",
    "import tensorflow as tf\n",
    "from tensorflow.keras.models import Model\n",
    "import pandas as pd\n",
    "import numpy as np\n",
    "from sklearn.model_selection import train_test_split\n",
    "import os\n",
    "from sklearn import metrics\n",
    "#from tensorflow.keras import backend as K\n",
    "from tensorflow.keras.callbacks import ModelCheckpoint\n",
    "from tensorflow.keras.callbacks import EarlyStopping\n",
    "from tensorflow.keras.callbacks import LearningRateScheduler\n",
    "from tensorflow.keras.callbacks import ReduceLROnPlateau\n",
    "from tensorflow.keras.callbacks import TensorBoard\n",
    "import datetime\n",
    "# Clear any logs from previous runs\n",
    "import shutil\n",
    "\n",
    "\n",
    "os.chdir(r\"C:\\Users\\User\\Desktop\\Applied_A\\Program\\DEEP_Learning\\Callback\\Callbacks\")\n",
    "\n",
    "# Read a Csv file Input file\n",
    "\n",
    "df = pd.read_csv('data.csv')\n",
    "\n",
    "# Set Input and Target\n",
    "X = df.drop('label',axis=1)\n",
    "y = df['label']\n",
    "\n",
    "# Split train and test dataset\n",
    "\n",
    "X_train,X_test,y_train,y_test  = train_test_split(X,y,test_size =0.3,random_state=123)\n",
    "\n",
    "#Normalizse - Better learning for model\n",
    "X_train = tf.keras.utils.normalize(X_train,axis=1)\n",
    "X_test = tf.keras.utils.normalize(X_test,axis=1)\n",
    "\n",
    "y_train = tf.keras.utils.to_categorical(y_train, 2) \n",
    "y_test = tf.keras.utils.to_categorical(y_test, 2)\n",
    "\n",
    "# Input - model inputs either a single array or a list of arrays\n",
    "\n",
    "X_train = X_train.to_numpy()\n",
    "X_test = X_test.to_numpy()\n",
    "#y_train = y_train.to_numpy()\n",
    "#y_test = y_test.to_numpy()\n",
    "\n",
    "print(X_train.shape)\n",
    "print(X_test.shape)\n",
    "print(y_train.shape)\n",
    "print(y_test.shape)\n",
    "\n",
    "#Remove the Directory of logs \n",
    "\n",
    "\n",
    "    "
   ]
  },
  {
   "cell_type": "code",
   "execution_count": 19,
   "metadata": {},
   "outputs": [],
   "source": [
    "def removing_logs():\n",
    "    try:\n",
    "        shutil.rmtree(r\"C:\\Users\\User\\Desktop\\Applied_A\\Program\\DEEP_Learning\\Callback\\Callbacks\\logs\")\n",
    "    except:\n",
    "\n",
    "        pass"
   ]
  },
  {
   "cell_type": "code",
   "execution_count": 2,
   "metadata": {},
   "outputs": [],
   "source": [
    "class Callback(object):\n",
    "    \n",
    "    \"\"\"Abstract base class used to build new callbacks.\n",
    "      Attributes:\n",
    "          params: dict. Training parameters\n",
    "              (eg. verbosity, batch size, number of epochs...).\n",
    "          model: instance of `keras.models.Model`.\n",
    "              Reference of the model being trained.\n",
    "          validation_data: Deprecated. Do not use.\n",
    "      The `logs` dictionary that callback methods\n",
    "      take as argument will contain keys for quantities relevant to\n",
    "      the current batch or epoch.\n",
    "      Currently, the `.fit()` method of the `Model` class\n",
    "      will include the following quantities in the `logs` that\n",
    "      it passes to its callbacks:\n",
    "          on_epoch_end: logs include `acc` and `loss`, and\n",
    "          optionally include `val_loss`\n",
    "          (if validation is enabled in `fit`), and `val_acc`\n",
    "          (if validation and accuracy monitoring are enabled).\n",
    "          on_batch_begin: logs include `size`,\n",
    "          the number of samples in the current batch.\n",
    "          on_batch_end: logs include `loss`, and optionally `acc`\n",
    "            (if accuracy monitoring is enabled).\n",
    "      \"\"\"\n",
    "\n",
    "    def __init__(self):\n",
    "        self.validation_data = None\n",
    "        self.model = None\n",
    "        # Whether this Callback should only run on the chief worker in a\n",
    "        # Multi-Worker setting.\n",
    "        # TODO(omalleyt): Make this attr public once solution is stable.\n",
    "        self._chief_worker_only = None\n",
    "\n",
    "    def set_params(self, params):\n",
    "        self.params = params\n",
    "\n",
    "    def set_model(self, model):\n",
    "        self.model = model\n",
    "\n",
    "    def on_batch_begin(self, batch, logs=None):\n",
    "        \"\"\"A backwards compatibility alias for `on_train_batch_begin`.\"\"\"\n",
    "\n",
    "    def on_batch_end(self, batch, logs=None):\n",
    "        \"\"\"A backwards compatibility alias for `on_train_batch_end`.\"\"\"\n",
    "\n",
    "    def on_epoch_begin(self, epoch, logs=None):\n",
    "        \"\"\"Called at the start of an epoch.\n",
    "        Subclasses should override for any actions to run. This function should only\n",
    "        be called during TRAIN mode.\n",
    "        Arguments:\n",
    "            epoch: integer, index of epoch.\n",
    "            logs: dict. Currently no data is passed to this argument for this method\n",
    "              but that may change in the future.\n",
    "        \"\"\"\n",
    "\n",
    "    def on_epoch_end(self, epoch, logs=None):\n",
    "        \"\"\"Called at the end of an epoch.\n",
    "        Subclasses should override for any actions to run. This function should only\n",
    "        be called during TRAIN mode.\n",
    "        Arguments:\n",
    "            epoch: integer, index of epoch.\n",
    "            logs: dict, metric results for this training epoch, and for the\n",
    "              validation epoch if validation is performed. Validation result keys\n",
    "              are prefixed with `val_`.\n",
    "        \"\"\"\n",
    "\n",
    "    def on_train_batch_begin(self, batch, logs=None):\n",
    "        \"\"\"Called at the beginning of a training batch in `fit` methods.\n",
    "        Subclasses should override for any actions to run.\n",
    "        Arguments:\n",
    "            batch: integer, index of batch within the current epoch.\n",
    "            logs: dict. Has keys `batch` and `size` representing the current batch\n",
    "              number and the size of the batch.\n",
    "        \"\"\"\n",
    "        # For backwards compatibility.\n",
    "        self.on_batch_begin(batch, logs=logs)\n",
    "\n",
    "    def on_train_batch_end(self, batch, logs=None):\n",
    "        \"\"\"Called at the end of a training batch in `fit` methods.\n",
    "        Subclasses should override for any actions to run.\n",
    "        Arguments:\n",
    "            batch: integer, index of batch within the current epoch.\n",
    "            logs: dict. Metric results for this batch.\n",
    "        \"\"\"\n",
    "        # For backwards compatibility.\n",
    "        self.on_batch_end(batch, logs=logs)\n",
    "\n",
    "    def on_test_batch_begin(self, batch, logs=None):\n",
    "        \"\"\"Called at the beginning of a batch in `evaluate` methods.\n",
    "        Also called at the beginning of a validation batch in the `fit`\n",
    "        methods, if validation data is provided.\n",
    "        Subclasses should override for any actions to run.\n",
    "        Arguments:\n",
    "            batch: integer, index of batch within the current epoch.\n",
    "            logs: dict. Has keys `batch` and `size` representing the current batch\n",
    "                  number and the size of the batch.\n",
    "        \"\"\"\n",
    "\n",
    "    def on_test_batch_end(self, batch, logs=None):\n",
    "        \"\"\"Called at the end of a batch in `evaluate` methods.\n",
    "        Also called at the end of a validation batch in the `fit`\n",
    "        methods, if validation data is provided.\n",
    "        Subclasses should override for any actions to run.\n",
    "        Arguments:\n",
    "            batch: integer, index of batch within the current epoch.\n",
    "            logs: dict. Metric results for this batch.\n",
    "        \"\"\"\n",
    "\n",
    "    def on_predict_batch_begin(self, batch, logs=None):\n",
    "        \"\"\"Called at the beginning of a batch in `predict` methods.\n",
    "        Subclasses should override for any actions to run.\n",
    "        Arguments:\n",
    "            batch: integer, index of batch within the current epoch.\n",
    "            logs: dict. Has keys `batch` and `size` representing the current batch\n",
    "                  number and the size of the batch.\n",
    "        \"\"\"\n",
    "\n",
    "    def on_predict_batch_end(self, batch, logs=None):\n",
    "        \"\"\"Called at the end of a batch in `predict` methods.\n",
    "        Subclasses should override for any actions to run.\n",
    "        Arguments:\n",
    "            batch: integer, index of batch within the current epoch.\n",
    "            logs: dict. Metric results for this batch.\n",
    "        \"\"\"\n",
    "\n",
    "    def on_train_begin(self, logs=None):\n",
    "        \"\"\"Called at the beginning of training.\n",
    "        Subclasses should override for any actions to run.\n",
    "        Arguments:\n",
    "            logs: dict. Currently no data is passed to this argument for this method\n",
    "                  but that may change in the future.\n",
    "        \"\"\"\n",
    "\n",
    "    def on_train_end(self, logs=None):\n",
    "        \"\"\"Called at the end of training.\n",
    "        Subclasses should override for any actions to run.\n",
    "        Arguments:\n",
    "            logs: dict. Currently no data is passed to this argument for this method\n",
    "                  but that may change in the future.\n",
    "        \"\"\"\n",
    "\n",
    "    def on_test_begin(self, logs=None):\n",
    "        \"\"\"Called at the beginning of evaluation or validation.\n",
    "        Subclasses should override for any actions to run.\n",
    "        Arguments:\n",
    "            logs: dict. Currently no data is passed to this argument for this method\n",
    "              but that may change in the future.\n",
    "        \"\"\"\n",
    "\n",
    "    def on_test_end(self, logs=None):\n",
    "        \"\"\"Called at the end of evaluation or validation.\n",
    "        Subclasses should override for any actions to run.\n",
    "        Arguments:\n",
    "            logs: dict. Currently no data is passed to this argument for this method\n",
    "              but that may change in the future.\n",
    "        \"\"\"\n",
    "\n",
    "    def on_predict_begin(self, logs=None):\n",
    "        \"\"\"Called at the beginning of prediction.\n",
    "        Subclasses should override for any actions to run.\n",
    "        Arguments:\n",
    "            logs: dict. Currently no data is passed to this argument for this method\n",
    "              but that may change in the future.\n",
    "        \"\"\"\n",
    "\n",
    "    def on_predict_end(self, logs=None):\n",
    "        \"\"\"Called at the end of prediction.\n",
    "        Subclasses should override for any actions to run.\n",
    "        Arguments:\n",
    "            logs: dict. Currently no data is passed to this argument for this method\n",
    "              but that may change in the future.\n",
    "    \"\"\"\n",
    " "
   ]
  },
  {
   "cell_type": "code",
   "execution_count": 3,
   "metadata": {},
   "outputs": [
    {
     "name": "stdout",
     "output_type": "stream",
     "text": [
      "validation shape 6000\n"
     ]
    }
   ],
   "source": [
    "class Metrics(tf.keras.callbacks.Callback):\n",
    "    def __init__(self, validation):   \n",
    "        super(Metrics, self).__init__()\n",
    "        self.validation = validation    \n",
    "            \n",
    "        print('validation shape', len(self.validation[0]))\n",
    "        \n",
    "    def on_train_begin(self, logs={}):        \n",
    "\n",
    "        self.history={'loss': [],'acc': [],'val_loss': [],'val_acc': []}\n",
    "        self.F1_score=0\n",
    "        self.AUC=0\n",
    "\n",
    "    def on_epoch_end(self, epoch, logs={}):\n",
    "        val_targ = self.validation[1]   \n",
    "        val_predict = (np.asarray(self.model.predict(self.validation[0]))).round()     \n",
    "\n",
    "        self.F1_score = metrics.f1_score(val_targ, val_predict,average='micro')\n",
    "\n",
    "        self.AUC = metrics.roc_auc_score(val_targ, val_predict,average='micro')\n",
    "        self.history['loss'].append(logs.get('loss'))\n",
    "        self.history['acc'].append(logs.get('acc'))\n",
    "        if logs.get('val_loss', -1) != -1:\n",
    "            self.history['val_loss'].append(logs.get('val_loss'))\n",
    "        if logs.get('val_acc', -1) != -1:\n",
    "            self.history['val_acc'].append(logs.get('val_acc'))\n",
    "            \n",
    "        print(' - F1_score',self.F1_score)\n",
    "        print(' - AUC ',self.AUC)\n",
    "        \n",
    "        #If you need 4th epoch model, you can load that model as below. \n",
    "        #It saves optimizer state as well. so noo need to recompile.\n",
    "        \n",
    "        #6. If you are getting any NaN values(either weigths or loss) while training, you have to terminate your training. \n",
    "        loss = logs.get('loss')\n",
    "        if loss is not None:\n",
    "            if np.isnan(loss) or np.isinf(loss):\n",
    "                print(\"Invalid loss and terminated at epoch {}\".format(epoch))\n",
    "                self.model.stop_training = True\n",
    "\n",
    " \n",
    "    \n",
    "history_own = Metrics((X_test, y_test))"
   ]
  },
  {
   "cell_type": "code",
   "execution_count": 4,
   "metadata": {},
   "outputs": [],
   "source": [
    "def runModel(x_tr, y_tr, x_val, y_val, activations, Weight_init):\n",
    "    #print(activations,Weight_init)\n",
    "    \n",
    "    if Weight_init == 'Random_uniform':\n",
    "        weight_init = tf.random_normal_initializer(mean=0.0, stddev=1.0, seed=9125)\n",
    "    elif Weight_init == 'He_init':\n",
    "        weight_init = tf.keras.initializers.he_normal(seed=123)\n",
    " \n",
    " \n",
    "    \n",
    "    inp = Input(shape = (x_tr.shape[1],))\n",
    "    \n",
    "    x = Dense(55,kernel_initializer=weight_init, activation='relu')(inp)\n",
    "    #x = Dropout(0.5)(x)\n",
    "    #x = BatchNormalization()(x)\n",
    "    x = Dense(50, activation=activations)(x)\n",
    "    x = Dropout(0.5)(x)\n",
    "    x = BatchNormalization()(x)\n",
    "    x = Dense(30, activation=activations)(x)\n",
    "    x = Dropout(0.5)(x)\n",
    "    x = BatchNormalization()(x)\n",
    "    x = Dense(15, activation=activations)(x)\n",
    "    x = Dropout(0.5)(x)\n",
    "    x = BatchNormalization()(x)\n",
    "    x = Dense(10, activation=activations)(x)\n",
    "   \n",
    "    out = Dense(2, activation=tf.nn.softmax)(x)\n",
    "    model = Model(inp, out)\n",
    "    \n",
    "    return model"
   ]
  },
  {
   "cell_type": "code",
   "execution_count": 5,
   "metadata": {},
   "outputs": [],
   "source": [
    "%load_ext tensorboard\n",
    "folder_name = datetime.datetime.now().strftime(\"%Y%m%d-%H%M%S\")"
   ]
  },
  {
   "cell_type": "code",
   "execution_count": 49,
   "metadata": {},
   "outputs": [],
   "source": [
    "def Callback_metrics(X_train, y_train, X_test, y_test, activations,Weight_init,\n",
    "                     optimizser_use,epoch_val,batch_val):\n",
    "    \n",
    "    \n",
    "\n",
    "    print('Welcome to Call Back Fumction in Deep learning')\n",
    "    print('Activation - {} , Weight_initializser - {},Optimizser - {},Epoch - {},Batch_size - {}'.format(activations,Weight_init,\n",
    "                     optimizser_use,epoch_val,batch_val))\n",
    "    \n",
    "    model = runModel(X_train, y_train, X_test, y_test, activations='relu',Weight_init='He_init')\n",
    "   \n",
    "    #print('*'*50)\n",
    "    #print(model)\n",
    "    \n",
    "    if optimizser_use == 'adam':\n",
    "        optimizer = tf.keras.optimizers.Adam(learning_rate=0.01,beta_1=0.8)\n",
    "    elif optimizser_use == 'sgd_mom':\n",
    "        optimizer =tf.keras.optimizers.SGD(\n",
    "        learning_rate=0.001, momentum=0.9, nesterov=False, name='SGD'\n",
    "    )\n",
    "    \n",
    "\n",
    "    #Callbacks\n",
    "    history_own = Metrics((X_test,y_test))\n",
    "    \n",
    "    model.compile(loss='categorical_crossentropy', optimizer= optimizer, metrics=['accuracy'])\n",
    "    \n",
    "    #print('@'*50)\n",
    "    \n",
    "    ##Callbacks\n",
    "    #file path, it saves the model in the 'model_save' folder and we are naming model with epoch number \n",
    "    #and val acc to differtiate with other models\n",
    "    #you have to create model_save folder before running the code.\n",
    "    filepath=\"model_save/weights-{epoch:02d}.hdf5\"\n",
    "    checkpoint = ModelCheckpoint(filepath=filepath, monitor='val_acc',  verbose=1, save_best_only=True, mode='auto')\n",
    "    \n",
    "    \n",
    "    # 7. You have to stop the training if your validation accuracy is not increased in last 2 epochs\n",
    "    earlystop = EarlyStopping(monitor='val_loss', min_delta=0.35, patience=2, verbose=1)\n",
    "    \n",
    "    #print('$'*50)\n",
    "    \n",
    "    # Learning Rate Scheduler\n",
    "    # This function keeps the initial learning rate for the first ten epochs  \n",
    "    # and decreases it exponentially after that. \n",
    "    \n",
    "    #5. you have to decay learning based on below conditions \n",
    "    def scheduler(epoch, lr):\n",
    "      print(history_own)  \n",
    "      #print('Values',val)\n",
    "      \n",
    "      if epoch >0:\n",
    "          \n",
    "          if epoch % 3 != 0:\n",
    "            return lr\n",
    "          else:\n",
    "            print('Epoch_iteration',epoch)\n",
    "            return lr * tf.math.exp(-0.5)\n",
    "      else:\n",
    "          return lr\n",
    "     \n",
    "    #print('^'*50)   \n",
    "    callback_learning_rate = LearningRateScheduler(scheduler, verbose=1)\n",
    "    \n",
    "    reduce_lr = ReduceLROnPlateau(monitor='val_accuracy', factor=0.2,\n",
    "                                  patience=5, min_lr=0.001)\n",
    "    \n",
    "\n",
    "    \n",
    "    #TensorBoard \n",
    "    #%load_ext tensorboard\n",
    "    \n",
    "    log_dir=\"logs\\\\fit\\\\\" + folder_name\n",
    "    tensorboard_callback =TensorBoard(log_dir=log_dir,histogram_freq=1, write_graph=True)\n",
    "\n",
    "                                  \n",
    "                                  \n",
    "                                 \n",
    "                                  \n",
    "    \n",
    "    model.fit(X_train, \n",
    "                      y_train, \n",
    "                      validation_data=(X_test,y_test),\n",
    "                      callbacks=[history_own, checkpoint,callback_learning_rate, reduce_lr,earlystop,tensorboard_callback], \n",
    "                      epochs=epoch_val,\n",
    "                      batch_size=batch_val\n",
    "                        \n",
    "                      )"
   ]
  },
  {
   "cell_type": "markdown",
   "metadata": {},
   "source": [
    "## Task 1- <b>Model-1</b>\n",
    "<pre>\n",
    "1. Use tanh as an activation for every layer except output layer.\n",
    "2. use SGD with momentum as optimizer.\n",
    "3. use RandomUniform(0,1) as initilizer.\n",
    "3. Analyze your output and training process. \n",
    "</pre>"
   ]
  },
  {
   "cell_type": "code",
   "execution_count": 7,
   "metadata": {},
   "outputs": [
    {
     "name": "stdout",
     "output_type": "stream",
     "text": [
      "Welcome to Call Back Fumction in Deep learning\n",
      "Activation - tanh , Weight_initializser - Random_uniform,Optimizser - sgd_mom,Epoch - 7,Batch_size - 16\n",
      "validation shape 6000\n",
      "Train on 14000 samples, validate on 6000 samples\n",
      "<__main__.Metrics object at 0x0000019101AD4448>\n",
      "\n",
      "Epoch 00001: LearningRateScheduler reducing learning rate to 0.009999999776482582.\n",
      "Epoch 1/7\n",
      "13760/14000 [============================>.] - ETA: 0s - loss: 0.7045 - accuracy: 0.5055 - F1_score 0.4975\n",
      " - AUC  0.49750000000000005\n",
      "\n",
      "Epoch 00001: val_loss improved from inf to 0.69329, saving model to model_save/weights-01.hdf5\n",
      "14000/14000 [==============================] - 7s 515us/sample - loss: 0.7043 - accuracy: 0.5061 - val_loss: 0.6933 - val_accuracy: 0.4975\n",
      "<__main__.Metrics object at 0x0000019101AD4448>\n",
      "\n",
      "Epoch 00002: LearningRateScheduler reducing learning rate to 0.009999999776482582.\n",
      "Epoch 2/7\n",
      "13840/14000 [============================>.] - ETA: 0s - loss: 0.6961 - accuracy: 0.5005 - F1_score 0.501\n",
      " - AUC  0.501\n",
      "\n",
      "Epoch 00002: val_loss did not improve from 0.69329\n",
      "14000/14000 [==============================] - 4s 296us/sample - loss: 0.6960 - accuracy: 0.5012 - val_loss: 0.6935 - val_accuracy: 0.5010\n",
      "<__main__.Metrics object at 0x0000019101AD4448>\n",
      "\n",
      "Epoch 00003: LearningRateScheduler reducing learning rate to 0.009999999776482582.\n",
      "Epoch 3/7\n",
      "13840/14000 [============================>.] - ETA: 0s - loss: 0.6956 - accuracy: 0.5007 - F1_score 0.499\n",
      " - AUC  0.499\n",
      "\n",
      "Epoch 00003: val_loss did not improve from 0.69329\n",
      "14000/14000 [==============================] - 4s 293us/sample - loss: 0.6956 - accuracy: 0.5007 - val_loss: 0.6948 - val_accuracy: 0.4990\n",
      "Epoch 00003: early stopping\n"
     ]
    }
   ],
   "source": [
    "#Main Program\n",
    "#Option yo select Activations\n",
    "'''\n",
    "activations  = 'relu' - retified Linear\n",
    "activations  = 'sigmoid' - sigmoid unit\n",
    "activations  = 'tanh' - tangent\n",
    "'''\n",
    "\n",
    "#Option yo select Weight_init\n",
    "'''\n",
    "Weight_init  = Random_uniform\n",
    "Weight_init  = He_init\n",
    "\n",
    "'''\n",
    "#Option yo select optimizser_use\n",
    "'''\n",
    "optimizser_use  = sgd_mom\n",
    "optimizser_use  = adam\n",
    "\n",
    "'''    \n",
    "Callback_metrics(X_train, y_train, X_test, y_test, activations = 'tanh',Weight_init ='Random_uniform' , \\\n",
    "                     optimizser_use = 'sgd_mom',epoch_val = 7,batch_val = 16)"
   ]
  },
  {
   "cell_type": "code",
   "execution_count": 8,
   "metadata": {},
   "outputs": [],
   "source": [
    "# Source path  \n",
    "source = r\"C:\\Users\\User\\Desktop\\Applied_A\\Program\\DEEP_Learning\\Callback\\Callbacks\\logs\\fit\" + \"\\\\\"+ str(folder_name)\n",
    "  \n",
    "# Destination path  \n",
    "destination = r\"C:\\Users\\User\\Desktop\\Applied_A\\Program\\DEEP_Learning\\Callback\\Callbacks\\logs\\fit\\20\""
   ]
  },
  {
   "cell_type": "code",
   "execution_count": 12,
   "metadata": {},
   "outputs": [
    {
     "data": {
      "text/plain": [
       "'C:\\\\Users\\\\User\\\\Desktop\\\\Applied_A\\\\Program\\\\DEEP_Learning\\\\Callback\\\\Callbacks\\\\logs\\\\fit\\\\20'"
      ]
     },
     "execution_count": 12,
     "metadata": {},
     "output_type": "execute_result"
    }
   ],
   "source": [
    "shutil.move(source,destination)"
   ]
  },
  {
   "cell_type": "code",
   "execution_count": 17,
   "metadata": {},
   "outputs": [],
   "source": [
    "#%tensorboard --logdir logs/fit"
   ]
  },
  {
   "cell_type": "code",
   "execution_count": 16,
   "metadata": {},
   "outputs": [
    {
     "data": {
      "image/png": "[encoded data removed]",
      "text/plain": [
       "<IPython.core.display.Image object>"
      ]
     },
     "execution_count": 16,
     "metadata": {},
     "output_type": "execute_result"
    }
   ],
   "source": [
    "#Model 1 - results\n",
    "from IPython.display import Image\n",
    "Image(filename='Model_results_1.png') "
   ]
  },
  {
   "cell_type": "markdown",
   "metadata": {},
   "source": [
    "## Task 2- <b>Model-2</b>\n",
    "<pre>\n",
    "1. Use relu as an activation for every layer except output layer.\n",
    "2. use SGD with momentum as optimizer.\n",
    "3. use RandomUniform(0,1) as initilizer.\n",
    "3. Analyze your output and training process. \n",
    "</pre>"
   ]
  },
  {
   "cell_type": "code",
   "execution_count": 20,
   "metadata": {},
   "outputs": [
    {
     "name": "stdout",
     "output_type": "stream",
     "text": [
      "Welcome to Call Back Fumction in Deep learning\n",
      "Activation - relu , Weight_initializser - Random_uniform,Optimizser - sgd_mom,Epoch - 7,Batch_size - 16\n",
      "validation shape 6000\n",
      "Train on 14000 samples, validate on 6000 samples\n",
      "<__main__.Metrics object at 0x0000019104DADBC8>\n",
      "\n",
      "Epoch 00001: LearningRateScheduler reducing learning rate to 0.009999999776482582.\n",
      "Epoch 1/7\n",
      "   16/14000 [..............................] - ETA: 30:43 - loss: 0.8020 - accuracy: 0.4375WARNING:tensorflow:Method (on_train_batch_end) is slow compared to the batch update (0.129173). Check your callbacks.\n",
      "13792/14000 [============================>.] - ETA: 0s - loss: 0.7048 - accuracy: 0.4900 - F1_score 0.499\n",
      " - AUC  0.499\n",
      "\n",
      "Epoch 00001: val_loss improved from inf to 0.69372, saving model to model_save/weights-01.hdf5\n",
      "14000/14000 [==============================] - 8s 539us/sample - loss: 0.7046 - accuracy: 0.4906 - val_loss: 0.6937 - val_accuracy: 0.4990\n",
      "<__main__.Metrics object at 0x0000019104DADBC8>\n",
      "\n",
      "Epoch 00002: LearningRateScheduler reducing learning rate to 0.009999999776482582.\n",
      "Epoch 2/7\n",
      "13888/14000 [============================>.] - ETA: 0s - loss: 0.6953 - accuracy: 0.5032 - F1_score 0.499\n",
      " - AUC  0.499\n",
      "\n",
      "Epoch 00002: val_loss did not improve from 0.69372\n",
      "14000/14000 [==============================] - 4s 304us/sample - loss: 0.6953 - accuracy: 0.5036 - val_loss: 0.6940 - val_accuracy: 0.4990\n",
      "<__main__.Metrics object at 0x0000019104DADBC8>\n",
      "\n",
      "Epoch 00003: LearningRateScheduler reducing learning rate to 0.009999999776482582.\n",
      "Epoch 3/7\n",
      "13840/14000 [============================>.] - ETA: 0s - loss: 0.6951 - accuracy: 0.4970 - F1_score 0.499\n",
      " - AUC  0.499\n",
      "\n",
      "Epoch 00003: val_loss improved from 0.69372 to 0.69325, saving model to model_save/weights-03.hdf5\n",
      "14000/14000 [==============================] - 4s 301us/sample - loss: 0.6951 - accuracy: 0.4969 - val_loss: 0.6933 - val_accuracy: 0.4990\n",
      "Epoch 00003: early stopping\n"
     ]
    },
    {
     "data": {
      "text/plain": [
       "'C:\\\\Users\\\\User\\\\Desktop\\\\Applied_A\\\\Program\\\\DEEP_Learning\\\\Callback\\\\Callbacks\\\\logs\\\\fit\\\\20'"
      ]
     },
     "execution_count": 20,
     "metadata": {},
     "output_type": "execute_result"
    }
   ],
   "source": [
    "#Removing existing logs\n",
    "removing_logs()\n",
    "\n",
    "Callback_metrics(X_train, y_train, X_test, y_test, activations = 'relu',Weight_init ='Random_uniform' , \\\n",
    "                     optimizser_use = 'sgd_mom',epoch_val = 7,batch_val = 16)\n",
    "\n",
    "# Source path  \n",
    "source = r\"C:\\Users\\User\\Desktop\\Applied_A\\Program\\DEEP_Learning\\Callback\\Callbacks\\logs\\fit\" + \"\\\\\"+ str(folder_name)\n",
    "  \n",
    "# Destination path  \n",
    "destination = r\"C:\\Users\\User\\Desktop\\Applied_A\\Program\\DEEP_Learning\\Callback\\Callbacks\\logs\\fit\\20\"\n",
    "\n",
    "shutil.move(source,destination)"
   ]
  },
  {
   "cell_type": "code",
   "execution_count": 22,
   "metadata": {},
   "outputs": [],
   "source": [
    "#%tensorboard --logdir logs/fit"
   ]
  },
  {
   "cell_type": "code",
   "execution_count": 23,
   "metadata": {},
   "outputs": [
    {
     "data": {
      "image/png": "[encoded data removed]",
      "text/plain": [
       "<IPython.core.display.Image object>"
      ]
     },
     "execution_count": 23,
     "metadata": {},
     "output_type": "execute_result"
    }
   ],
   "source": [
    "#Model 2 - results\n",
    "from IPython.display import Image\n",
    "Image(filename='Model_results_2.png') "
   ]
  },
  {
   "cell_type": "markdown",
   "metadata": {},
   "source": [
    "## Task 3- <b>Model-2</b>\n",
    "<pre>\n",
    "1. Use relu as an activation for every layer except output layer.\n",
    "2. use SGD with momentum as optimizer.\n",
    "3. use he_uniform() as initilizer.\n",
    "3. Analyze your output and training process. \n",
    "</pre>"
   ]
  },
  {
   "cell_type": "code",
   "execution_count": 25,
   "metadata": {},
   "outputs": [
    {
     "name": "stdout",
     "output_type": "stream",
     "text": [
      "Welcome to Call Back Fumction in Deep learning\n",
      "Activation - relu , Weight_initializser - He_init,Optimizser - sgd_mom,Epoch - 7,Batch_size - 16\n",
      "validation shape 6000\n",
      "Train on 14000 samples, validate on 6000 samples\n",
      "<__main__.Metrics object at 0x00000191033E0B48>\n",
      "\n",
      "Epoch 00001: LearningRateScheduler reducing learning rate to 0.009999999776482582.\n",
      "Epoch 1/7\n",
      "13968/14000 [============================>.] - ETA: 0s - loss: 0.7033 - accuracy: 0.4961 - F1_score 0.4866666666666667\n",
      " - AUC  0.4866666666666667\n",
      "\n",
      "Epoch 00001: val_loss improved from inf to 0.69326, saving model to model_save/weights-01.hdf5\n",
      "14000/14000 [==============================] - 7s 499us/sample - loss: 0.7033 - accuracy: 0.4963 - val_loss: 0.6933 - val_accuracy: 0.4867\n",
      "<__main__.Metrics object at 0x00000191033E0B48>\n",
      "\n",
      "Epoch 00002: LearningRateScheduler reducing learning rate to 0.009999999776482582.\n",
      "Epoch 2/7\n",
      "13984/14000 [============================>.] - ETA: 0s - loss: 0.6955 - accuracy: 0.5015 - F1_score 0.499\n",
      " - AUC  0.499\n",
      "\n",
      "Epoch 00002: val_loss did not improve from 0.69326\n",
      "14000/14000 [==============================] - 5s 364us/sample - loss: 0.6955 - accuracy: 0.5015 - val_loss: 0.6943 - val_accuracy: 0.4990\n",
      "<__main__.Metrics object at 0x00000191033E0B48>\n",
      "\n",
      "Epoch 00003: LearningRateScheduler reducing learning rate to 0.009999999776482582.\n",
      "Epoch 3/7\n",
      "13904/14000 [============================>.] - ETA: 0s - loss: 0.6951 - accuracy: 0.4956 - F1_score 0.499\n",
      " - AUC  0.499\n",
      "\n",
      "Epoch 00003: val_loss did not improve from 0.69326\n",
      "14000/14000 [==============================] - 4s 285us/sample - loss: 0.6951 - accuracy: 0.4953 - val_loss: 0.6937 - val_accuracy: 0.4990\n",
      "Epoch 00003: early stopping\n"
     ]
    },
    {
     "data": {
      "text/plain": [
       "'C:\\\\Users\\\\User\\\\Desktop\\\\Applied_A\\\\Program\\\\DEEP_Learning\\\\Callback\\\\Callbacks\\\\logs\\\\fit\\\\20'"
      ]
     },
     "execution_count": 25,
     "metadata": {},
     "output_type": "execute_result"
    }
   ],
   "source": [
    "#Removing existing logs\n",
    "removing_logs()\n",
    "\n",
    "Callback_metrics(X_train, y_train, X_test, y_test, activations = 'relu',Weight_init ='He_init' , \\\n",
    "                     optimizser_use = 'sgd_mom',epoch_val = 7,batch_val = 16)\n",
    "\n",
    "# Source path  \n",
    "source = r\"C:\\Users\\User\\Desktop\\Applied_A\\Program\\DEEP_Learning\\Callback\\Callbacks\\logs\\fit\" + \"\\\\\"+ str(folder_name)\n",
    "  \n",
    "# Destination path  \n",
    "destination = r\"C:\\Users\\User\\Desktop\\Applied_A\\Program\\DEEP_Learning\\Callback\\Callbacks\\logs\\fit\\20\"\n",
    "\n",
    "shutil.move(source,destination)"
   ]
  },
  {
   "cell_type": "code",
   "execution_count": 28,
   "metadata": {},
   "outputs": [],
   "source": [
    "#%tensorboard --logdir logs/fit/20/"
   ]
  },
  {
   "cell_type": "code",
   "execution_count": 27,
   "metadata": {},
   "outputs": [
    {
     "data": {
      "image/png": "[encoded data removed]",
      "text/plain": [
       "<IPython.core.display.Image object>"
      ]
     },
     "execution_count": 27,
     "metadata": {},
     "output_type": "execute_result"
    }
   ],
   "source": [
    "#Model 3 - results\n",
    "\n",
    "Image(filename='Model_results_3.png') "
   ]
  },
  {
   "cell_type": "markdown",
   "metadata": {},
   "source": [
    "## Task 4- <b>Model-2</b>\n",
    "<pre>\n",
    "Try any value to get Better results\n",
    "</pre>"
   ]
  },
  {
   "cell_type": "code",
   "execution_count": 51,
   "metadata": {},
   "outputs": [
    {
     "name": "stdout",
     "output_type": "stream",
     "text": [
      "Welcome to Call Back Fumction in Deep learning\n",
      "Activation - relu , Weight_initializser - He_init,Optimizser - adam,Epoch - 7,Batch_size - 10\n",
      "validation shape 6000\n",
      "Train on 14000 samples, validate on 6000 samples\n",
      "<__main__.Metrics object at 0x000001910B2E4248>\n",
      "\n",
      "Epoch 00001: LearningRateScheduler reducing learning rate to 0.009999999776482582.\n",
      "Epoch 1/7\n",
      "   10/14000 [..............................] - ETA: 1:10:35 - loss: 0.7413 - accuracy: 0.7000WARNING:tensorflow:Method (on_train_batch_end) is slow compared to the batch update (0.106122). Check your callbacks.\n",
      "13940/14000 [============================>.] - ETA: 0s - loss: 0.6982 - accuracy: 0.4998 - F1_score 0.499\n",
      " - AUC  0.499\n",
      "WARNING:tensorflow:Can save best model only with val_acc available, skipping.\n",
      "14000/14000 [==============================] - 13s 908us/sample - loss: 0.6982 - accuracy: 0.4999 - val_loss: 0.6944 - val_accuracy: 0.4990\n",
      "<__main__.Metrics object at 0x000001910B2E4248>\n",
      "\n",
      "Epoch 00002: LearningRateScheduler reducing learning rate to 0.009999999776482582.\n",
      "Epoch 2/7\n",
      "13990/14000 [============================>.] - ETA: 0s - loss: 0.6941 - accuracy: 0.4989 - F1_score 0.501\n",
      " - AUC  0.501\n",
      "WARNING:tensorflow:Can save best model only with val_acc available, skipping.\n",
      "14000/14000 [==============================] - 9s 608us/sample - loss: 0.6941 - accuracy: 0.4989 - val_loss: 0.6935 - val_accuracy: 0.5010\n",
      "<__main__.Metrics object at 0x000001910B2E4248>\n",
      "\n",
      "Epoch 00003: LearningRateScheduler reducing learning rate to 0.009999999776482582.\n",
      "Epoch 3/7\n",
      "13990/14000 [============================>.] - ETA: 0s - loss: 0.6940 - accuracy: 0.5003 - F1_score 0.501\n",
      " - AUC  0.501\n",
      "WARNING:tensorflow:Can save best model only with val_acc available, skipping.\n",
      "14000/14000 [==============================] - 8s 583us/sample - loss: 0.6940 - accuracy: 0.5003 - val_loss: 0.6931 - val_accuracy: 0.5010\n",
      "<__main__.Metrics object at 0x000001910B2E4248>\n",
      "Epoch_iteration 3\n",
      "\n",
      "Epoch 00004: LearningRateScheduler reducing learning rate to tf.Tensor(0.0060653067, shape=(), dtype=float32).\n",
      "Epoch 4/7\n",
      "13940/14000 [============================>.] - ETA: 0s - loss: 0.6939 - accuracy: 0.4930 - F1_score 0.501\n",
      " - AUC  0.501\n",
      "WARNING:tensorflow:Can save best model only with val_acc available, skipping.\n",
      "14000/14000 [==============================] - 8s 586us/sample - loss: 0.6939 - accuracy: 0.4930 - val_loss: 0.6932 - val_accuracy: 0.5010\n",
      "<__main__.Metrics object at 0x000001910B2E4248>\n",
      "\n",
      "Epoch 00005: LearningRateScheduler reducing learning rate to 0.006065306719392538.\n",
      "Epoch 5/7\n",
      "13880/14000 [============================>.] - ETA: 0s - loss: 0.6933 - accuracy: 0.5073 - F1_score 0.499\n",
      " - AUC  0.499\n",
      "WARNING:tensorflow:Can save best model only with val_acc available, skipping.\n",
      "14000/14000 [==============================] - 8s 555us/sample - loss: 0.6933 - accuracy: 0.5074 - val_loss: 0.6935 - val_accuracy: 0.4990\n",
      "<__main__.Metrics object at 0x000001910B2E4248>\n",
      "\n",
      "Epoch 00006: LearningRateScheduler reducing learning rate to 0.006065306719392538.\n",
      "Epoch 6/7\n",
      "13920/14000 [============================>.] - ETA: 0s - loss: 0.6936 - accuracy: 0.5001 - F1_score 0.501\n",
      " - AUC  0.501\n",
      "WARNING:tensorflow:Can save best model only with val_acc available, skipping.\n",
      "14000/14000 [==============================] - 8s 539us/sample - loss: 0.6937 - accuracy: 0.4998 - val_loss: 0.6932 - val_accuracy: 0.5010\n",
      "Epoch 00006: early stopping\n"
     ]
    },
    {
     "data": {
      "text/plain": [
       "'C:\\\\Users\\\\User\\\\Desktop\\\\Applied_A\\\\Program\\\\DEEP_Learning\\\\Callback\\\\Callbacks\\\\logs\\\\fit\\\\20'"
      ]
     },
     "execution_count": 51,
     "metadata": {},
     "output_type": "execute_result"
    }
   ],
   "source": [
    "#Removing existing logs\n",
    "removing_logs()\n",
    "\n",
    "Callback_metrics(X_train, y_train, X_test, y_test, activations = 'relu',Weight_init ='He_init' , \\\n",
    "                     optimizser_use = 'adam',epoch_val = 7,batch_val = 10)\n",
    "\n",
    "# Source path  \n",
    "source = r\"C:\\Users\\User\\Desktop\\Applied_A\\Program\\DEEP_Learning\\Callback\\Callbacks\\logs\\fit\" + \"\\\\\"+ str(folder_name)\n",
    "  \n",
    "# Destination path  \n",
    "destination = r\"C:\\Users\\User\\Desktop\\Applied_A\\Program\\DEEP_Learning\\Callback\\Callbacks\\logs\\fit\\20\"\n",
    "\n",
    "shutil.move(source,destination)"
   ]
  },
  {
   "cell_type": "code",
   "execution_count": 47,
   "metadata": {},
   "outputs": [
    {
     "data": {
      "text/plain": [
       "Reusing TensorBoard on port 6006 (pid 15056), started 0:01:33 ago. (Use '!kill 15056' to kill it.)"
      ]
     },
     "metadata": {},
     "output_type": "display_data"
    },
    {
     "data": {
      "text/html": [
       "\n",
       "      <iframe id=\"tensorboard-frame-823b66378a3012d2\" width=\"100%\" height=\"800\" frameborder=\"0\">\n",
       "      </iframe>\n",
       "      <script>\n",
       "        (function() {\n",
       "          const frame = document.getElementById(\"tensorboard-frame-823b66378a3012d2\");\n",
       "          const url = new URL(\"/\", window.location);\n",
       "          url.port = 6006;\n",
       "          frame.src = url;\n",
       "        })();\n",
       "      </script>\n",
       "  "
      ],
      "text/plain": [
       "<IPython.core.display.HTML object>"
      ]
     },
     "metadata": {},
     "output_type": "display_data"
    }
   ],
   "source": [
    "%tensorboard --logdir logs/fit/20/"
   ]
  },
  {
   "cell_type": "code",
   "execution_count": 3,
   "metadata": {},
   "outputs": [],
   "source": [
    "aa = [0.05710934, 0.13047184, 0.1339587 , 0.13197474, 0.11852044,\n",
    "       0.07618686, 0.11367586, 0.08294692, 0.10321341, 0.05194194]"
   ]
  },
  {
   "cell_type": "code",
   "execution_count": 6,
   "metadata": {},
   "outputs": [],
   "source": [
    "import numpy as np"
   ]
  },
  {
   "cell_type": "code",
   "execution_count": 9,
   "metadata": {},
   "outputs": [
    {
     "name": "stdout",
     "output_type": "stream",
     "text": [
      "[0 1 0]\n",
      "[2 1]\n"
     ]
    },
    {
     "data": {
      "text/plain": [
       "numpy.ndarray"
      ]
     },
     "execution_count": 9,
     "metadata": {},
     "output_type": "execute_result"
    }
   ],
   "source": [
    "an_array = np.array([[1, 1, 3], [1, 2, 1]])\n",
    "max_index_col = np.argmax(an_array, axis=0)\n",
    "print(max_index_col)\n",
    "max_index_row = np.argmax(an_array, axis=1)\n",
    "print(max_index_row)\n",
    "type(max_index_row)"
   ]
  },
  {
   "cell_type": "code",
   "execution_count": null,
   "metadata": {},
   "outputs": [],
   "source": []
  }
 ],
 "metadata": {
  "colab": {
   "collapsed_sections": [],
   "name": "Call_Backs_Assignment.ipynb",
   "provenance": []
  },
  "kernelspec": {
   "display_name": "Python 3",
   "language": "python",
   "name": "python3"
  },
  "language_info": {
   "codemirror_mode": {
    "name": "ipython",
    "version": 3
   },
   "file_extension": ".py",
   "mimetype": "text/x-python",
   "name": "python",
   "nbconvert_exporter": "python",
   "pygments_lexer": "ipython3",
   "version": "3.6.12"
  }
 },
 "nbformat": 4,
 "nbformat_minor": 1
}
